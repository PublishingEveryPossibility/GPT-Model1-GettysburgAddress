!pip install requests

import requests
import json

api_key = 'your_api_key_here'

api_url = 'https://api.openai.com/v1/engines/davinci/completions'

headers = {
    'Authorization': f'Bearer {api_key}',
    'Content-Type': 'application/json'
}


prompt = "Explain the meaning of the following text from Lincoln's Gettysburg Address: 'Four score and seven years ago our fathers brought forth on this continent, a new nation, conceived in Liberty, and dedicated to the proposition that all men are created equal.'"


data = {
    "prompt": prompt,
    "max_tokens": 100,
    "temperature": 0.7
}


response = requests.post(api_url, headers=headers, json=data)


if response.status_code == 200:
    response_text = response.json()["choices"][0]["text"]
    print("Generated Response:", response_text)
else:
    print("Error:", response.status_code, response.text)

summary_prompt = "Summarize the Gettysburg Address in 50 words."

data["prompt"] = summary_prompt
data["max_tokens"] = 50

response = requests.post(api_url, headers=headers, json=data)

if response.status_code == 200:
    response_summary = response.json()["choices"][0]["text"]
    print("Summary:", response_summary)
else:
    print("Error:", response.status_code, response.text)

